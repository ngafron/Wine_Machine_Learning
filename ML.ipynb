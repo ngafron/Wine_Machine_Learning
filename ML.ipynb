{
 "cells": [
  {
   "cell_type": "code",
   "execution_count": 229,
   "metadata": {},
   "outputs": [],
   "source": [
    "import pandas as pd\n",
    "import numpy as np\n",
    "import json\n",
    "%matplotlib inline\n",
    "import matplotlib.pyplot as plt\n",
    "import seaborn as sns; sns.set(color_codes=True)\n",
    "\n",
    "import warnings\n",
    "warnings.filterwarnings(\"ignore\")"
   ]
  },
  {
   "cell_type": "code",
   "execution_count": 230,
   "metadata": {},
   "outputs": [],
   "source": [
    "file1 = \"Resources/cleaned_winedf2.csv\"\n",
    "df = pd.read_csv(file1)"
   ]
  },
  {
   "cell_type": "code",
   "execution_count": 231,
   "metadata": {},
   "outputs": [],
   "source": [
    "df = df.drop(columns=['description', 'province', 'region_1', 'region_2', 'variety', 'type', 'designation', \"taster_twitter_handle\", \"title\", 'winery'])\n",
    "df = df.dropna(subset=['points', 'price'])\n",
    "df = df[df['price'] < 1000]"
   ]
  },
  {
   "cell_type": "markdown",
   "metadata": {},
   "source": [
    "### Per our exploratory analysis, we see that the strongest trend with \"Price\" is with Points, the Sommolier taster, and country. There were originally 42 different countries listed. We used https://winefolly.com/lifestyle/top-wine-regions-of-the-world/ in order to categorize the top wine regions in the world. This decreased the countries to 17 countries"
   ]
  },
  {
   "cell_type": "code",
   "execution_count": 232,
   "metadata": {},
   "outputs": [
    {
     "data": {
      "text/html": [
       "<div>\n",
       "<style scoped>\n",
       "    .dataframe tbody tr th:only-of-type {\n",
       "        vertical-align: middle;\n",
       "    }\n",
       "\n",
       "    .dataframe tbody tr th {\n",
       "        vertical-align: top;\n",
       "    }\n",
       "\n",
       "    .dataframe thead th {\n",
       "        text-align: right;\n",
       "    }\n",
       "</style>\n",
       "<table border=\"1\" class=\"dataframe\">\n",
       "  <thead>\n",
       "    <tr style=\"text-align: right;\">\n",
       "      <th></th>\n",
       "      <th>points</th>\n",
       "      <th>price</th>\n",
       "      <th>taster_name</th>\n",
       "      <th>top_wine_regions</th>\n",
       "    </tr>\n",
       "  </thead>\n",
       "  <tbody>\n",
       "    <tr>\n",
       "      <th>0</th>\n",
       "      <td>86</td>\n",
       "      <td>19</td>\n",
       "      <td>Mike DeSimone</td>\n",
       "      <td>others</td>\n",
       "    </tr>\n",
       "    <tr>\n",
       "      <th>2</th>\n",
       "      <td>87</td>\n",
       "      <td>19</td>\n",
       "      <td>Mike DeSimone</td>\n",
       "      <td>others</td>\n",
       "    </tr>\n",
       "    <tr>\n",
       "      <th>5</th>\n",
       "      <td>89</td>\n",
       "      <td>21</td>\n",
       "      <td>Mike DeSimone</td>\n",
       "      <td>others</td>\n",
       "    </tr>\n",
       "    <tr>\n",
       "      <th>8</th>\n",
       "      <td>89</td>\n",
       "      <td>33</td>\n",
       "      <td>Mike DeSimone</td>\n",
       "      <td>others</td>\n",
       "    </tr>\n",
       "    <tr>\n",
       "      <th>11</th>\n",
       "      <td>90</td>\n",
       "      <td>19</td>\n",
       "      <td>Mike DeSimone</td>\n",
       "      <td>others</td>\n",
       "    </tr>\n",
       "    <tr>\n",
       "      <th>...</th>\n",
       "      <td>...</td>\n",
       "      <td>...</td>\n",
       "      <td>...</td>\n",
       "      <td>...</td>\n",
       "    </tr>\n",
       "    <tr>\n",
       "      <th>378987</th>\n",
       "      <td>89</td>\n",
       "      <td>14</td>\n",
       "      <td>Mike DeSimone</td>\n",
       "      <td>others</td>\n",
       "    </tr>\n",
       "    <tr>\n",
       "      <th>378989</th>\n",
       "      <td>90</td>\n",
       "      <td>17</td>\n",
       "      <td>Mike DeSimone</td>\n",
       "      <td>others</td>\n",
       "    </tr>\n",
       "    <tr>\n",
       "      <th>378993</th>\n",
       "      <td>87</td>\n",
       "      <td>14</td>\n",
       "      <td>Mike DeSimone</td>\n",
       "      <td>others</td>\n",
       "    </tr>\n",
       "    <tr>\n",
       "      <th>378995</th>\n",
       "      <td>88</td>\n",
       "      <td>15</td>\n",
       "      <td>Mike DeSimone</td>\n",
       "      <td>others</td>\n",
       "    </tr>\n",
       "    <tr>\n",
       "      <th>379005</th>\n",
       "      <td>87</td>\n",
       "      <td>16</td>\n",
       "      <td>Anna Lee C. Iijima</td>\n",
       "      <td>others</td>\n",
       "    </tr>\n",
       "  </tbody>\n",
       "</table>\n",
       "<p>96404 rows × 4 columns</p>\n",
       "</div>"
      ],
      "text/plain": [
       "        points  price         taster_name top_wine_regions\n",
       "0           86     19       Mike DeSimone           others\n",
       "2           87     19       Mike DeSimone           others\n",
       "5           89     21       Mike DeSimone           others\n",
       "8           89     33       Mike DeSimone           others\n",
       "11          90     19       Mike DeSimone           others\n",
       "...        ...    ...                 ...              ...\n",
       "378987      89     14       Mike DeSimone           others\n",
       "378989      90     17       Mike DeSimone           others\n",
       "378993      87     14       Mike DeSimone           others\n",
       "378995      88     15       Mike DeSimone           others\n",
       "379005      87     16  Anna Lee C. Iijima           others\n",
       "\n",
       "[96404 rows x 4 columns]"
      ]
     },
     "execution_count": 232,
     "metadata": {},
     "output_type": "execute_result"
    }
   ],
   "source": [
    "file2 = \"Resources/new_vs_old.csv\"\n",
    "df2 = pd.read_csv(file2)\n",
    "df = pd.merge(df, df2, on=\"country\")\n",
    "df = df.dropna(subset=['taster_name'])\n",
    "df = df.drop(columns=['country', 'old_vs_new', 'region'])\n",
    "df"
   ]
  },
  {
   "cell_type": "markdown",
   "metadata": {},
   "source": [
    "# Data Pre-Processing"
   ]
  },
  {
   "cell_type": "code",
   "execution_count": 233,
   "metadata": {},
   "outputs": [
    {
     "name": "stdout",
     "output_type": "stream",
     "text": [
      "(96404, 3) (96404, 1)\n"
     ]
    }
   ],
   "source": [
    "X = df[['points', 'taster_name', 'top_wine_regions']]\n",
    "y = df['price'].values.reshape(-1, 1)\n",
    "print(X.shape, y.shape)"
   ]
  },
  {
   "cell_type": "markdown",
   "metadata": {},
   "source": [
    "## Use Pandas get_dummies to Encode categorical values"
   ]
  },
  {
   "cell_type": "markdown",
   "metadata": {},
   "source": [
    "### We want to add taster_name and top_wine_regions to our model. Since they are string values, we need to do encode those string values into an array of numerical values. In order to do this, we can either use OneHotEncoding or get_dummies that is a Pandas function. Since we are already dealing with a Pandas dataframe, it woudl take less code to use get_dummies in order to encode the values."
   ]
  },
  {
   "cell_type": "code",
   "execution_count": 234,
   "metadata": {},
   "outputs": [
    {
     "data": {
      "text/html": [
       "<div>\n",
       "<style scoped>\n",
       "    .dataframe tbody tr th:only-of-type {\n",
       "        vertical-align: middle;\n",
       "    }\n",
       "\n",
       "    .dataframe tbody tr th {\n",
       "        vertical-align: top;\n",
       "    }\n",
       "\n",
       "    .dataframe thead th {\n",
       "        text-align: right;\n",
       "    }\n",
       "</style>\n",
       "<table border=\"1\" class=\"dataframe\">\n",
       "  <thead>\n",
       "    <tr style=\"text-align: right;\">\n",
       "      <th></th>\n",
       "      <th>points</th>\n",
       "      <th>taster_name_Alexander Peartree</th>\n",
       "      <th>taster_name_Anna Lee C. Iijima</th>\n",
       "      <th>taster_name_Anne Krebiehl MW</th>\n",
       "      <th>taster_name_Carrie Dykes</th>\n",
       "      <th>taster_name_Christina Pickard</th>\n",
       "      <th>taster_name_Fiona Adams</th>\n",
       "      <th>taster_name_Jeff Jenssen</th>\n",
       "      <th>taster_name_Jim Gordon</th>\n",
       "      <th>taster_name_Joe Czerwinski</th>\n",
       "      <th>...</th>\n",
       "      <th>top_wine_regions_Greece</th>\n",
       "      <th>top_wine_regions_Hungary</th>\n",
       "      <th>top_wine_regions_Italy</th>\n",
       "      <th>top_wine_regions_New Zealand</th>\n",
       "      <th>top_wine_regions_Portugal</th>\n",
       "      <th>top_wine_regions_Romania</th>\n",
       "      <th>top_wine_regions_South Africa</th>\n",
       "      <th>top_wine_regions_Spain</th>\n",
       "      <th>top_wine_regions_US</th>\n",
       "      <th>top_wine_regions_others</th>\n",
       "    </tr>\n",
       "  </thead>\n",
       "  <tbody>\n",
       "    <tr>\n",
       "      <th>0</th>\n",
       "      <td>86</td>\n",
       "      <td>0</td>\n",
       "      <td>0</td>\n",
       "      <td>0</td>\n",
       "      <td>0</td>\n",
       "      <td>0</td>\n",
       "      <td>0</td>\n",
       "      <td>0</td>\n",
       "      <td>0</td>\n",
       "      <td>0</td>\n",
       "      <td>...</td>\n",
       "      <td>0</td>\n",
       "      <td>0</td>\n",
       "      <td>0</td>\n",
       "      <td>0</td>\n",
       "      <td>0</td>\n",
       "      <td>0</td>\n",
       "      <td>0</td>\n",
       "      <td>0</td>\n",
       "      <td>0</td>\n",
       "      <td>1</td>\n",
       "    </tr>\n",
       "    <tr>\n",
       "      <th>2</th>\n",
       "      <td>87</td>\n",
       "      <td>0</td>\n",
       "      <td>0</td>\n",
       "      <td>0</td>\n",
       "      <td>0</td>\n",
       "      <td>0</td>\n",
       "      <td>0</td>\n",
       "      <td>0</td>\n",
       "      <td>0</td>\n",
       "      <td>0</td>\n",
       "      <td>...</td>\n",
       "      <td>0</td>\n",
       "      <td>0</td>\n",
       "      <td>0</td>\n",
       "      <td>0</td>\n",
       "      <td>0</td>\n",
       "      <td>0</td>\n",
       "      <td>0</td>\n",
       "      <td>0</td>\n",
       "      <td>0</td>\n",
       "      <td>1</td>\n",
       "    </tr>\n",
       "    <tr>\n",
       "      <th>5</th>\n",
       "      <td>89</td>\n",
       "      <td>0</td>\n",
       "      <td>0</td>\n",
       "      <td>0</td>\n",
       "      <td>0</td>\n",
       "      <td>0</td>\n",
       "      <td>0</td>\n",
       "      <td>0</td>\n",
       "      <td>0</td>\n",
       "      <td>0</td>\n",
       "      <td>...</td>\n",
       "      <td>0</td>\n",
       "      <td>0</td>\n",
       "      <td>0</td>\n",
       "      <td>0</td>\n",
       "      <td>0</td>\n",
       "      <td>0</td>\n",
       "      <td>0</td>\n",
       "      <td>0</td>\n",
       "      <td>0</td>\n",
       "      <td>1</td>\n",
       "    </tr>\n",
       "    <tr>\n",
       "      <th>8</th>\n",
       "      <td>89</td>\n",
       "      <td>0</td>\n",
       "      <td>0</td>\n",
       "      <td>0</td>\n",
       "      <td>0</td>\n",
       "      <td>0</td>\n",
       "      <td>0</td>\n",
       "      <td>0</td>\n",
       "      <td>0</td>\n",
       "      <td>0</td>\n",
       "      <td>...</td>\n",
       "      <td>0</td>\n",
       "      <td>0</td>\n",
       "      <td>0</td>\n",
       "      <td>0</td>\n",
       "      <td>0</td>\n",
       "      <td>0</td>\n",
       "      <td>0</td>\n",
       "      <td>0</td>\n",
       "      <td>0</td>\n",
       "      <td>1</td>\n",
       "    </tr>\n",
       "    <tr>\n",
       "      <th>11</th>\n",
       "      <td>90</td>\n",
       "      <td>0</td>\n",
       "      <td>0</td>\n",
       "      <td>0</td>\n",
       "      <td>0</td>\n",
       "      <td>0</td>\n",
       "      <td>0</td>\n",
       "      <td>0</td>\n",
       "      <td>0</td>\n",
       "      <td>0</td>\n",
       "      <td>...</td>\n",
       "      <td>0</td>\n",
       "      <td>0</td>\n",
       "      <td>0</td>\n",
       "      <td>0</td>\n",
       "      <td>0</td>\n",
       "      <td>0</td>\n",
       "      <td>0</td>\n",
       "      <td>0</td>\n",
       "      <td>0</td>\n",
       "      <td>1</td>\n",
       "    </tr>\n",
       "  </tbody>\n",
       "</table>\n",
       "<p>5 rows × 37 columns</p>\n",
       "</div>"
      ],
      "text/plain": [
       "    points  taster_name_Alexander Peartree  taster_name_Anna Lee C. Iijima  \\\n",
       "0       86                               0                               0   \n",
       "2       87                               0                               0   \n",
       "5       89                               0                               0   \n",
       "8       89                               0                               0   \n",
       "11      90                               0                               0   \n",
       "\n",
       "    taster_name_Anne Krebiehl MW  taster_name_Carrie Dykes  \\\n",
       "0                              0                         0   \n",
       "2                              0                         0   \n",
       "5                              0                         0   \n",
       "8                              0                         0   \n",
       "11                             0                         0   \n",
       "\n",
       "    taster_name_Christina Pickard  taster_name_Fiona Adams  \\\n",
       "0                               0                        0   \n",
       "2                               0                        0   \n",
       "5                               0                        0   \n",
       "8                               0                        0   \n",
       "11                              0                        0   \n",
       "\n",
       "    taster_name_Jeff Jenssen  taster_name_Jim Gordon  \\\n",
       "0                          0                       0   \n",
       "2                          0                       0   \n",
       "5                          0                       0   \n",
       "8                          0                       0   \n",
       "11                         0                       0   \n",
       "\n",
       "    taster_name_Joe Czerwinski  ...  top_wine_regions_Greece  \\\n",
       "0                            0  ...                        0   \n",
       "2                            0  ...                        0   \n",
       "5                            0  ...                        0   \n",
       "8                            0  ...                        0   \n",
       "11                           0  ...                        0   \n",
       "\n",
       "    top_wine_regions_Hungary  top_wine_regions_Italy  \\\n",
       "0                          0                       0   \n",
       "2                          0                       0   \n",
       "5                          0                       0   \n",
       "8                          0                       0   \n",
       "11                         0                       0   \n",
       "\n",
       "    top_wine_regions_New Zealand  top_wine_regions_Portugal  \\\n",
       "0                              0                          0   \n",
       "2                              0                          0   \n",
       "5                              0                          0   \n",
       "8                              0                          0   \n",
       "11                             0                          0   \n",
       "\n",
       "    top_wine_regions_Romania  top_wine_regions_South Africa  \\\n",
       "0                          0                              0   \n",
       "2                          0                              0   \n",
       "5                          0                              0   \n",
       "8                          0                              0   \n",
       "11                         0                              0   \n",
       "\n",
       "    top_wine_regions_Spain  top_wine_regions_US  top_wine_regions_others  \n",
       "0                        0                    0                        1  \n",
       "2                        0                    0                        1  \n",
       "5                        0                    0                        1  \n",
       "8                        0                    0                        1  \n",
       "11                       0                    0                        1  \n",
       "\n",
       "[5 rows x 37 columns]"
      ]
     },
     "execution_count": 234,
     "metadata": {},
     "output_type": "execute_result"
    }
   ],
   "source": [
    "#Use Pandas get_dummies to encode taster_name and top_wine_regions\n",
    "data = X.copy()\n",
    "\n",
    "data_encoded = pd.get_dummies(data, columns=['taster_name', 'top_wine_regions'])\n",
    "# data_encoded = pd.get_dummies(data, columns=['taster_name'])\n",
    "# data_encoded = data\n",
    "data_encoded.head()"
   ]
  },
  {
   "cell_type": "markdown",
   "metadata": {},
   "source": [
    "### We already took out some of the outliers by narrowing down the DataFrame by filtering out any wines that are priced over $1,000. Lets graph points vs price"
   ]
  },
  {
   "cell_type": "code",
   "execution_count": 235,
   "metadata": {},
   "outputs": [
    {
     "data": {
      "image/png": "[encoded data removed]",
      "text/plain": [
       "<Figure size 432x288 with 1 Axes>"
      ]
     },
     "metadata": {},
     "output_type": "display_data"
    },
    {
     "data": {
      "image/png": "[encoded data removed]",
      "text/plain": [
       "<Figure size 432x288 with 1 Axes>"
      ]
     },
     "metadata": {},
     "output_type": "display_data"
    }
   ],
   "source": [
    "plt.scatter(df['points'], y)\n",
    "plt.title(\"Points vs Price\")\n",
    "plt.savefig('Images/ML_Points_vs_Price_lessthan1000.png')\n",
    "plt.show()\n",
    "\n",
    "\n",
    "df.price.plot.hist()\n",
    "plt.title('Price Histogram')\n",
    "plt.savefig('Images/ML_Points_vs_Price_histo.png')\n",
    "plt.show()\n"
   ]
  },
  {
   "cell_type": "code",
   "execution_count": 236,
   "metadata": {},
   "outputs": [
    {
     "data": {
      "text/html": [
       "<div>\n",
       "<style scoped>\n",
       "    .dataframe tbody tr th:only-of-type {\n",
       "        vertical-align: middle;\n",
       "    }\n",
       "\n",
       "    .dataframe tbody tr th {\n",
       "        vertical-align: top;\n",
       "    }\n",
       "\n",
       "    .dataframe thead th {\n",
       "        text-align: right;\n",
       "    }\n",
       "</style>\n",
       "<table border=\"1\" class=\"dataframe\">\n",
       "  <thead>\n",
       "    <tr style=\"text-align: right;\">\n",
       "      <th></th>\n",
       "      <th>points</th>\n",
       "      <th>taster_name</th>\n",
       "      <th>top_wine_regions</th>\n",
       "    </tr>\n",
       "  </thead>\n",
       "  <tbody>\n",
       "    <tr>\n",
       "      <th>0</th>\n",
       "      <td>86</td>\n",
       "      <td>Mike DeSimone</td>\n",
       "      <td>others</td>\n",
       "    </tr>\n",
       "    <tr>\n",
       "      <th>2</th>\n",
       "      <td>87</td>\n",
       "      <td>Mike DeSimone</td>\n",
       "      <td>others</td>\n",
       "    </tr>\n",
       "    <tr>\n",
       "      <th>5</th>\n",
       "      <td>89</td>\n",
       "      <td>Mike DeSimone</td>\n",
       "      <td>others</td>\n",
       "    </tr>\n",
       "    <tr>\n",
       "      <th>8</th>\n",
       "      <td>89</td>\n",
       "      <td>Mike DeSimone</td>\n",
       "      <td>others</td>\n",
       "    </tr>\n",
       "    <tr>\n",
       "      <th>11</th>\n",
       "      <td>90</td>\n",
       "      <td>Mike DeSimone</td>\n",
       "      <td>others</td>\n",
       "    </tr>\n",
       "  </tbody>\n",
       "</table>\n",
       "</div>"
      ],
      "text/plain": [
       "    points    taster_name top_wine_regions\n",
       "0       86  Mike DeSimone           others\n",
       "2       87  Mike DeSimone           others\n",
       "5       89  Mike DeSimone           others\n",
       "8       89  Mike DeSimone           others\n",
       "11      90  Mike DeSimone           others"
      ]
     },
     "execution_count": 236,
     "metadata": {},
     "output_type": "execute_result"
    }
   ],
   "source": [
    "data.head()"
   ]
  },
  {
   "cell_type": "markdown",
   "metadata": {},
   "source": [
    "### We see that there is a linear correlation between points and price. However, when looking at the numerical distribution, we see that it is positively skewed. This fits a Box-Cox transformation in Scikit. We are using a PowerTransformer function to transform the price in order to use more evenly distributed data for our model. "
   ]
  },
  {
   "cell_type": "code",
   "execution_count": 237,
   "metadata": {},
   "outputs": [
    {
     "data": {
      "text/plain": [
       "array([[1.90685074],\n",
       "       [1.90685074],\n",
       "       [1.94523436],\n",
       "       ...,\n",
       "       [1.78183614],\n",
       "       [1.81115771],\n",
       "       [1.83800622]])"
      ]
     },
     "execution_count": 237,
     "metadata": {},
     "output_type": "execute_result"
    }
   ],
   "source": [
    "from sklearn import preprocessing\n",
    "pt = preprocessing.PowerTransformer(method='box-cox', standardize=False)\n",
    "X_lognormal = y\n",
    "price_transformed = pt.fit_transform(X_lognormal)\n",
    "# X_lognormal\n",
    "price_transformed"
   ]
  },
  {
   "cell_type": "code",
   "execution_count": 238,
   "metadata": {},
   "outputs": [],
   "source": [
    "price_transformed = pd.DataFrame(price_transformed)"
   ]
  },
  {
   "cell_type": "code",
   "execution_count": 239,
   "metadata": {},
   "outputs": [],
   "source": [
    "data_encoded = data_encoded.reset_index(drop=True)\n",
    "price_transformed = price_transformed.reset_index(drop=True)"
   ]
  },
  {
   "cell_type": "code",
   "execution_count": 240,
   "metadata": {},
   "outputs": [],
   "source": [
    "data_encoded = pd.concat([data_encoded, price_transformed], axis=1)\n",
    "# data_encoded"
   ]
  },
  {
   "cell_type": "code",
   "execution_count": 241,
   "metadata": {},
   "outputs": [],
   "source": [
    "data_encoded = data_encoded.rename(columns={0: 'price_transformed'})\n",
    "# data_encoded.columns"
   ]
  },
  {
   "cell_type": "markdown",
   "metadata": {},
   "source": [
    "### Lets graph our newly transformed Price to see if its more evenly distributed along with a stronger linearregression."
   ]
  },
  {
   "cell_type": "code",
   "execution_count": 242,
   "metadata": {},
   "outputs": [
    {
     "data": {
      "image/png": "[encoded data removed]",
      "text/plain": [
       "<Figure size 432x288 with 1 Axes>"
      ]
     },
     "metadata": {},
     "output_type": "display_data"
    }
   ],
   "source": [
    "plt.scatter(data_encoded.points, data_encoded.price_transformed)\n",
    "plt.title('Points vs Price(Transformed)')\n",
    "plt.savefig('Images/ML_Points_vs_Price_transformed.png')\n",
    "plt.show()\n"
   ]
  },
  {
   "cell_type": "code",
   "execution_count": 243,
   "metadata": {},
   "outputs": [
    {
     "data": {
      "image/png": "[encoded data removed]",
      "text/plain": [
       "<Figure size 432x288 with 1 Axes>"
      ]
     },
     "metadata": {},
     "output_type": "display_data"
    }
   ],
   "source": [
    "#Run histogram on new transformed Price\n",
    "data_encoded.price_transformed.plot.hist()\n",
    "plt.title('Price Transformed Histogram')\n",
    "plt.savefig('Images/ML_Price_transformed_histo.png')\n",
    "plt.show()\n"
   ]
  },
  {
   "cell_type": "code",
   "execution_count": 244,
   "metadata": {},
   "outputs": [
    {
     "data": {
      "image/png": "[encoded data removed]",
      "text/plain": [
       "<Figure size 432x288 with 1 Axes>"
      ]
     },
     "metadata": {},
     "output_type": "display_data"
    }
   ],
   "source": [
    "data_encoded.points.plot.hist()\n",
    "plt.title('Points Histogram')\n",
    "plt.savefig('Images/ML_Points_histo.png')\n",
    "plt.show()\n"
   ]
  },
  {
   "cell_type": "markdown",
   "metadata": {},
   "source": [
    "### Now that we know our price is transformed and evenly distrbuted, it is time to run our Model. "
   ]
  },
  {
   "cell_type": "code",
   "execution_count": 245,
   "metadata": {},
   "outputs": [
    {
     "name": "stdout",
     "output_type": "stream",
     "text": [
      "(96404, 37) (96404, 1)\n"
     ]
    }
   ],
   "source": [
    "X = data_encoded.drop(['price_transformed'], axis='columns')\n",
    "# X = data_encoded.drop(['price_transformed', 'top_wine_regions', 'taster_name'], axis='columns')\n",
    "y = data_encoded.price_transformed.values.reshape(-1,1)\n",
    "print(X.shape, y.shape)"
   ]
  },
  {
   "cell_type": "code",
   "execution_count": 246,
   "metadata": {},
   "outputs": [
    {
     "data": {
      "text/plain": [
       "0.4607121015106825"
      ]
     },
     "execution_count": 246,
     "metadata": {},
     "output_type": "execute_result"
    }
   ],
   "source": [
    "from sklearn.linear_model import LinearRegression\n",
    "model = LinearRegression(normalize=True)\n",
    "model.fit(X, y)\n",
    "# model.fit(X_train_scaled, y_train_scaled)\n",
    "model.score(X, y)"
   ]
  },
  {
   "cell_type": "code",
   "execution_count": 247,
   "metadata": {},
   "outputs": [
    {
     "name": "stdout",
     "output_type": "stream",
     "text": [
      "                            OLS Regression Results                            \n",
      "==============================================================================\n",
      "Dep. Variable:                      y   R-squared:                       0.461\n",
      "Model:                            OLS   Adj. R-squared:                  0.461\n",
      "Method:                 Least Squares   F-statistic:                     2353.\n",
      "Date:                Sat, 09 May 2020   Prob (F-statistic):               0.00\n",
      "Time:                        12:07:06   Log-Likelihood:                 38647.\n",
      "No. Observations:               96404   AIC:                        -7.722e+04\n",
      "Df Residuals:                   96368   BIC:                        -7.688e+04\n",
      "Df Model:                          35                                         \n",
      "Covariance Type:            nonrobust                                         \n",
      "==================================================================================================\n",
      "                                     coef    std err          t      P>|t|      [0.025      0.975]\n",
      "--------------------------------------------------------------------------------------------------\n",
      "const                             -1.7700      0.018    -99.060      0.000      -1.805      -1.735\n",
      "points                             0.0445      0.000    236.179      0.000       0.044       0.045\n",
      "taster_name_Alexander Peartree    -0.0050      0.009     -0.559      0.576      -0.022       0.012\n",
      "taster_name_Anna Lee C. Iijima    -0.1573      0.005    -30.381      0.000      -0.167      -0.147\n",
      "taster_name_Anne Krebiehl MW      -0.1699      0.006    -29.022      0.000      -0.181      -0.158\n",
      "taster_name_Carrie Dykes           0.0068      0.014      0.491      0.624      -0.020       0.034\n",
      "taster_name_Christina Pickard     -0.0648      0.063     -1.030      0.303      -0.188       0.058\n",
      "taster_name_Fiona Adams           -0.0290      0.030     -0.969      0.332      -0.088       0.030\n",
      "taster_name_Jeff Jenssen          -0.2317      0.009    -24.776      0.000      -0.250      -0.213\n",
      "taster_name_Jim Gordon            -0.1877      0.005    -35.300      0.000      -0.198      -0.177\n",
      "taster_name_Joe Czerwinski        -0.1002      0.006    -16.996      0.000      -0.112      -0.089\n",
      "taster_name_Kerin O’Keefe          0.0250      0.011      2.247      0.025       0.003       0.047\n",
      "taster_name_Lauren Buzzeo         -0.1326      0.007    -19.502      0.000      -0.146      -0.119\n",
      "taster_name_Matt Kettmann         -0.1047      0.005    -20.153      0.000      -0.115      -0.094\n",
      "taster_name_Michael Schachner     -0.0366      0.009     -4.095      0.000      -0.054      -0.019\n",
      "taster_name_Mike DeSimone         -0.1402      0.009    -15.921      0.000      -0.157      -0.123\n",
      "taster_name_Paul Gregutt          -0.1195      0.005    -24.078      0.000      -0.129      -0.110\n",
      "taster_name_Roger Voss            -0.0825      0.006    -14.905      0.000      -0.093      -0.072\n",
      "taster_name_Sean P. Sullivan      -0.1069      0.005    -20.464      0.000      -0.117      -0.097\n",
      "taster_name_Susan Kostrzewa       -0.0976      0.008    -12.322      0.000      -0.113      -0.082\n",
      "taster_name_Virginie Boone        -0.0356      0.005     -7.081      0.000      -0.045      -0.026\n",
      "top_wine_regions_Argentina        -0.1614      0.012    -13.905      0.000      -0.184      -0.139\n",
      "top_wine_regions_Australia        -0.0767      0.011     -7.127      0.000      -0.098      -0.056\n",
      "top_wine_regions_Brazil           -0.0147      0.025     -0.587      0.557      -0.064       0.034\n",
      "top_wine_regions_Chile            -0.2016      0.012    -17.466      0.000      -0.224      -0.179\n",
      "top_wine_regions_China            -0.1646      0.153     -1.074      0.283      -0.465       0.136\n",
      "top_wine_regions_France           -0.0628      0.010     -6.335      0.000      -0.082      -0.043\n",
      "top_wine_regions_Germany          -0.0390      0.011     -3.647      0.000      -0.060      -0.018\n",
      "top_wine_regions_Greece           -0.0926      0.014     -6.763      0.000      -0.119      -0.066\n",
      "top_wine_regions_Hungary           0.0418      0.017      2.504      0.012       0.009       0.075\n",
      "top_wine_regions_Italy            -0.1280      0.014     -9.451      0.000      -0.155      -0.101\n",
      "top_wine_regions_New Zealand      -0.0840      0.011     -7.585      0.000      -0.106      -0.062\n",
      "top_wine_regions_Portugal         -0.1972      0.010    -19.405      0.000      -0.217      -0.177\n",
      "top_wine_regions_Romania          -0.2336      0.017    -13.410      0.000      -0.268      -0.199\n",
      "top_wine_regions_South Africa     -0.1071      0.011     -9.432      0.000      -0.129      -0.085\n",
      "top_wine_regions_Spain            -0.1580      0.011    -13.740      0.000      -0.180      -0.135\n",
      "top_wine_regions_US               -0.0235      0.010     -2.278      0.023      -0.044      -0.003\n",
      "top_wine_regions_others           -0.0673      0.010     -6.798      0.000      -0.087      -0.048\n",
      "==============================================================================\n",
      "Omnibus:                      761.287   Durbin-Watson:                   0.435\n",
      "Prob(Omnibus):                  0.000   Jarque-Bera (JB):              787.521\n",
      "Skew:                           0.208   Prob(JB):                    9.82e-172\n",
      "Kurtosis:                       3.150   Cond. No.                     1.00e+16\n",
      "==============================================================================\n",
      "\n",
      "Warnings:\n",
      "[1] Standard Errors assume that the covariance matrix of the errors is correctly specified.\n",
      "[2] The smallest eigenvalue is 7.55e-24. This might indicate that there are\n",
      "strong multicollinearity problems or that the design matrix is singular.\n"
     ]
    }
   ],
   "source": [
    "import numpy as np\n",
    "from scipy import log\n",
    "import statsmodels.api as sm\n",
    "X = sm.add_constant(X)\n",
    "# X = data_encoded.points\n",
    "mod = sm.OLS(y, X)\n",
    "res = mod.fit()\n",
    "print(res.summary())\n"
   ]
  },
  {
   "cell_type": "code",
   "execution_count": 248,
   "metadata": {},
   "outputs": [],
   "source": [
    "from sklearn.model_selection import train_test_split\n",
    "\n",
    "X_train, X_test, y_train, y_test = train_test_split(X, y, random_state=42)"
   ]
  },
  {
   "cell_type": "code",
   "execution_count": 249,
   "metadata": {},
   "outputs": [],
   "source": [
    "from sklearn.preprocessing import StandardScaler\n",
    "\n",
    "X_scaler = StandardScaler().fit(X_train)\n",
    "y_scaler = StandardScaler().fit(y_train)"
   ]
  },
  {
   "cell_type": "code",
   "execution_count": 250,
   "metadata": {},
   "outputs": [],
   "source": [
    "X_train_scaled = X_scaler.transform(X_train)\n",
    "X_test_scaled = X_scaler.transform(X_test)\n",
    "y_train_scaled = y_scaler.transform(y_train)\n",
    "y_test_scaled = y_scaler.transform(y_test)"
   ]
  },
  {
   "cell_type": "code",
   "execution_count": 251,
   "metadata": {},
   "outputs": [
    {
     "data": {
      "text/plain": [
       "LinearRegression(copy_X=True, fit_intercept=True, n_jobs=None, normalize=False)"
      ]
     },
     "execution_count": 251,
     "metadata": {},
     "output_type": "execute_result"
    }
   ],
   "source": [
    "from sklearn.linear_model import LinearRegression\n",
    "model = LinearRegression()\n",
    "model.fit(X_train_scaled, y_train_scaled)"
   ]
  },
  {
   "cell_type": "code",
   "execution_count": 252,
   "metadata": {},
   "outputs": [
    {
     "data": {
      "image/png": "[encoded data removed]",
      "text/plain": [
       "<Figure size 432x288 with 1 Axes>"
      ]
     },
     "metadata": {},
     "output_type": "display_data"
    }
   ],
   "source": [
    "predictions = model.predict(X_test_scaled)\n",
    "model.fit(X_train_scaled, y_train_scaled)\n",
    "plt.scatter(model.predict(X_train_scaled), model.predict(X_train_scaled) - y_train_scaled, c=\"blue\", label=\"Training Data\")\n",
    "plt.scatter(model.predict(X_test_scaled), model.predict(X_test_scaled) - y_test_scaled, c=\"orange\", label=\"Testing Data\")\n",
    "plt.legend()\n",
    "plt.hlines(y=0, xmin=y_test_scaled.min(), xmax=y_test_scaled.max())\n",
    "plt.title(\"Residual Plot\")\n",
    "plt.savefig('Images/ML_residual_plot.png')\n",
    "plt.show()\n"
   ]
  },
  {
   "cell_type": "code",
   "execution_count": 253,
   "metadata": {},
   "outputs": [
    {
     "name": "stdout",
     "output_type": "stream",
     "text": [
      "MSE: 0.5291088356334623, R2: 0.4627035384931763\n"
     ]
    }
   ],
   "source": [
    "from sklearn.metrics import mean_squared_error\n",
    "\n",
    "MSE = mean_squared_error(y_test_scaled, predictions)\n",
    "r2 = model.score(X_test_scaled, y_test_scaled)\n",
    "\n",
    "print(f\"MSE: {MSE}, R2: {r2}\")"
   ]
  },
  {
   "cell_type": "markdown",
   "metadata": {},
   "source": [
    "# Run Model with just Price and Points"
   ]
  },
  {
   "cell_type": "code",
   "execution_count": 256,
   "metadata": {},
   "outputs": [
    {
     "name": "stdout",
     "output_type": "stream",
     "text": [
      "                                 OLS Regression Results                                \n",
      "=======================================================================================\n",
      "Dep. Variable:                  price   R-squared (uncentered):                   0.969\n",
      "Model:                            OLS   Adj. R-squared (uncentered):              0.969\n",
      "Method:                 Least Squares   F-statistic:                          3.011e+06\n",
      "Date:                Sat, 09 May 2020   Prob (F-statistic):                        0.00\n",
      "Time:                        12:08:38   Log-Likelihood:                         -86257.\n",
      "No. Observations:               96404   AIC:                                  1.725e+05\n",
      "Df Residuals:                   96403   BIC:                                  1.725e+05\n",
      "Df Model:                           1                                                  \n",
      "Covariance Type:            nonrobust                                                  \n",
      "==============================================================================\n",
      "                 coef    std err          t      P>|t|      [0.025      0.975]\n",
      "------------------------------------------------------------------------------\n",
      "points         0.0373   2.15e-05   1735.150      0.000       0.037       0.037\n",
      "==============================================================================\n",
      "Omnibus:                     7523.651   Durbin-Watson:                   0.246\n",
      "Prob(Omnibus):                  0.000   Jarque-Bera (JB):            10109.940\n",
      "Skew:                           0.676   Prob(JB):                         0.00\n",
      "Kurtosis:                       3.830   Cond. No.                         1.00\n",
      "==============================================================================\n",
      "\n",
      "Warnings:\n",
      "[1] Standard Errors assume that the covariance matrix of the errors is correctly specified.\n"
     ]
    }
   ],
   "source": [
    "df9 = pd.read_csv('Resources/cleaned_winedf2.csv')\n",
    "d = df[['price', 'points']]\n",
    "\n",
    "#Get log of price to normalize distrubution (Box-Cox transformation)\n",
    "y = np.log(d.price)\n",
    "x = d.points\n",
    "frame = pd.DataFrame({\"x\": x, \"y\":y})\n",
    "\n",
    "#fit and summarize OLS model\n",
    "mod = sm.OLS(y, x)\n",
    "res = mod.fit()\n",
    "print(res.summary())"
   ]
  },
  {
   "cell_type": "code",
   "execution_count": 257,
   "metadata": {},
   "outputs": [
    {
     "data": {
      "image/png": "[encoded data removed]",
      "text/plain": [
       "<Figure size 360x360 with 1 Axes>"
      ]
     },
     "metadata": {},
     "output_type": "display_data"
    }
   ],
   "source": [
    "g = sns.lmplot(x='x', y='y', data=frame)"
   ]
  },
  {
   "cell_type": "code",
   "execution_count": null,
   "metadata": {},
   "outputs": [],
   "source": []
  },
  {
   "cell_type": "code",
   "execution_count": null,
   "metadata": {},
   "outputs": [],
   "source": []
  },
  {
   "cell_type": "code",
   "execution_count": null,
   "metadata": {},
   "outputs": [],
   "source": []
  },
  {
   "cell_type": "code",
   "execution_count": null,
   "metadata": {},
   "outputs": [],
   "source": []
  },
  {
   "cell_type": "code",
   "execution_count": null,
   "metadata": {},
   "outputs": [],
   "source": []
  },
  {
   "cell_type": "markdown",
   "metadata": {},
   "source": [
    "# Perform Model for Single Country - US"
   ]
  },
  {
   "cell_type": "markdown",
   "metadata": {},
   "source": [
    "### Let's attempt to see if we get a higher level of predictability if we are able to narrow down our data to a single country. Most countries have only 1 taster, so we are going to use US as that example. "
   ]
  },
  {
   "cell_type": "code",
   "execution_count": 217,
   "metadata": {},
   "outputs": [
    {
     "name": "stdout",
     "output_type": "stream",
     "text": [
      "Number of records?\n",
      "37510\n"
     ]
    }
   ],
   "source": [
    "us = df[df['top_wine_regions'] == 'US'] \n",
    "# us = pd.get_dummies(us, columns=['taster_name'])\n",
    "print(\"Number of records?\")\n",
    "print(us.points.count())\n",
    "# us.head()"
   ]
  },
  {
   "cell_type": "code",
   "execution_count": 218,
   "metadata": {},
   "outputs": [
    {
     "data": {
      "image/png": "[encoded data removed]",
      "text/plain": [
       "<Figure size 432x288 with 1 Axes>"
      ]
     },
     "metadata": {},
     "output_type": "display_data"
    },
    {
     "data": {
      "image/png": "[encoded data removed]",
      "text/plain": [
       "<Figure size 432x288 with 1 Axes>"
      ]
     },
     "metadata": {},
     "output_type": "display_data"
    }
   ],
   "source": [
    "#Plot points and price for US data\n",
    "plt.scatter(us['points'], us['price'])\n",
    "plt.title(\"Points vs Price\")\n",
    "plt.show()\n",
    "\n",
    "us.price.hist()\n",
    "plt.title('US: Price Histogram')\n",
    "plt.show()\n"
   ]
  },
  {
   "cell_type": "markdown",
   "metadata": {},
   "source": [
    "### We see that the price is once again positively skewed. Lets run the same Box-Cox transformation in order see the distribution we need to run the Model."
   ]
  },
  {
   "cell_type": "code",
   "execution_count": 219,
   "metadata": {},
   "outputs": [],
   "source": [
    "#Run Box-Cox transformation with PowerTransformer\n",
    "from sklearn import preprocessing\n",
    "pt = preprocessing.PowerTransformer(method='box-cox', standardize=False)\n",
    "y_lognormal = us.price.values.reshape(-1,1)\n",
    "us_price_transformed = pt.fit_transform(y_lognormal)\n",
    "us_price_transformed = pd.DataFrame(us_price_transformed)"
   ]
  },
  {
   "cell_type": "code",
   "execution_count": 220,
   "metadata": {},
   "outputs": [
    {
     "data": {
      "text/html": [
       "<div>\n",
       "<style scoped>\n",
       "    .dataframe tbody tr th:only-of-type {\n",
       "        vertical-align: middle;\n",
       "    }\n",
       "\n",
       "    .dataframe tbody tr th {\n",
       "        vertical-align: top;\n",
       "    }\n",
       "\n",
       "    .dataframe thead th {\n",
       "        text-align: right;\n",
       "    }\n",
       "</style>\n",
       "<table border=\"1\" class=\"dataframe\">\n",
       "  <thead>\n",
       "    <tr style=\"text-align: right;\">\n",
       "      <th></th>\n",
       "      <th>0</th>\n",
       "    </tr>\n",
       "  </thead>\n",
       "  <tbody>\n",
       "    <tr>\n",
       "      <th>0</th>\n",
       "      <td>3.348252</td>\n",
       "    </tr>\n",
       "    <tr>\n",
       "      <th>1</th>\n",
       "      <td>2.629650</td>\n",
       "    </tr>\n",
       "    <tr>\n",
       "      <th>2</th>\n",
       "      <td>2.778434</td>\n",
       "    </tr>\n",
       "    <tr>\n",
       "      <th>3</th>\n",
       "      <td>2.732868</td>\n",
       "    </tr>\n",
       "    <tr>\n",
       "      <th>4</th>\n",
       "      <td>2.860115</td>\n",
       "    </tr>\n",
       "    <tr>\n",
       "      <th>...</th>\n",
       "      <td>...</td>\n",
       "    </tr>\n",
       "    <tr>\n",
       "      <th>37505</th>\n",
       "      <td>2.778434</td>\n",
       "    </tr>\n",
       "    <tr>\n",
       "      <th>37506</th>\n",
       "      <td>2.778434</td>\n",
       "    </tr>\n",
       "    <tr>\n",
       "      <th>37507</th>\n",
       "      <td>2.431696</td>\n",
       "    </tr>\n",
       "    <tr>\n",
       "      <th>37508</th>\n",
       "      <td>2.878853</td>\n",
       "    </tr>\n",
       "    <tr>\n",
       "      <th>37509</th>\n",
       "      <td>2.878853</td>\n",
       "    </tr>\n",
       "  </tbody>\n",
       "</table>\n",
       "<p>37510 rows × 1 columns</p>\n",
       "</div>"
      ],
      "text/plain": [
       "              0\n",
       "0      3.348252\n",
       "1      2.629650\n",
       "2      2.778434\n",
       "3      2.732868\n",
       "4      2.860115\n",
       "...         ...\n",
       "37505  2.778434\n",
       "37506  2.778434\n",
       "37507  2.431696\n",
       "37508  2.878853\n",
       "37509  2.878853\n",
       "\n",
       "[37510 rows x 1 columns]"
      ]
     },
     "execution_count": 220,
     "metadata": {},
     "output_type": "execute_result"
    }
   ],
   "source": [
    "us_price_transformed"
   ]
  },
  {
   "cell_type": "code",
   "execution_count": 221,
   "metadata": {},
   "outputs": [
    {
     "data": {
      "text/html": [
       "<div>\n",
       "<style scoped>\n",
       "    .dataframe tbody tr th:only-of-type {\n",
       "        vertical-align: middle;\n",
       "    }\n",
       "\n",
       "    .dataframe tbody tr th {\n",
       "        vertical-align: top;\n",
       "    }\n",
       "\n",
       "    .dataframe thead th {\n",
       "        text-align: right;\n",
       "    }\n",
       "</style>\n",
       "<table border=\"1\" class=\"dataframe\">\n",
       "  <thead>\n",
       "    <tr style=\"text-align: right;\">\n",
       "      <th></th>\n",
       "      <th>points</th>\n",
       "      <th>price_transformed</th>\n",
       "    </tr>\n",
       "  </thead>\n",
       "  <tbody>\n",
       "    <tr>\n",
       "      <th>0</th>\n",
       "      <td>85</td>\n",
       "      <td>3.348252</td>\n",
       "    </tr>\n",
       "    <tr>\n",
       "      <th>1</th>\n",
       "      <td>81</td>\n",
       "      <td>2.629650</td>\n",
       "    </tr>\n",
       "    <tr>\n",
       "      <th>2</th>\n",
       "      <td>84</td>\n",
       "      <td>2.778434</td>\n",
       "    </tr>\n",
       "    <tr>\n",
       "      <th>3</th>\n",
       "      <td>86</td>\n",
       "      <td>2.732868</td>\n",
       "    </tr>\n",
       "    <tr>\n",
       "      <th>4</th>\n",
       "      <td>86</td>\n",
       "      <td>2.860115</td>\n",
       "    </tr>\n",
       "    <tr>\n",
       "      <th>...</th>\n",
       "      <td>...</td>\n",
       "      <td>...</td>\n",
       "    </tr>\n",
       "    <tr>\n",
       "      <th>37505</th>\n",
       "      <td>87</td>\n",
       "      <td>2.778434</td>\n",
       "    </tr>\n",
       "    <tr>\n",
       "      <th>37506</th>\n",
       "      <td>88</td>\n",
       "      <td>2.778434</td>\n",
       "    </tr>\n",
       "    <tr>\n",
       "      <th>37507</th>\n",
       "      <td>89</td>\n",
       "      <td>2.431696</td>\n",
       "    </tr>\n",
       "    <tr>\n",
       "      <th>37508</th>\n",
       "      <td>90</td>\n",
       "      <td>2.878853</td>\n",
       "    </tr>\n",
       "    <tr>\n",
       "      <th>37509</th>\n",
       "      <td>90</td>\n",
       "      <td>2.878853</td>\n",
       "    </tr>\n",
       "  </tbody>\n",
       "</table>\n",
       "<p>37510 rows × 2 columns</p>\n",
       "</div>"
      ],
      "text/plain": [
       "       points  price_transformed\n",
       "0          85           3.348252\n",
       "1          81           2.629650\n",
       "2          84           2.778434\n",
       "3          86           2.732868\n",
       "4          86           2.860115\n",
       "...       ...                ...\n",
       "37505      87           2.778434\n",
       "37506      88           2.778434\n",
       "37507      89           2.431696\n",
       "37508      90           2.878853\n",
       "37509      90           2.878853\n",
       "\n",
       "[37510 rows x 2 columns]"
      ]
     },
     "execution_count": 221,
     "metadata": {},
     "output_type": "execute_result"
    }
   ],
   "source": [
    "us_enc = us.drop(['price', 'top_wine_regions', 'taster_name'], axis='columns').reset_index(drop=True)\n",
    "us_enc = pd.concat([us_enc, us_price_transformed], axis=1)\n",
    "us_enc = us_enc.rename(columns={0: 'price_transformed'})\n",
    "us_enc\n",
    "# data_encoded = pd.concat([data_encoded, price_transformed], axis=1)"
   ]
  },
  {
   "cell_type": "code",
   "execution_count": 222,
   "metadata": {},
   "outputs": [
    {
     "data": {
      "image/png": "[encoded data removed]",
      "text/plain": [
       "<Figure size 432x288 with 1 Axes>"
      ]
     },
     "metadata": {},
     "output_type": "display_data"
    }
   ],
   "source": [
    "plt.scatter(us_enc.points, us_enc.price_transformed)\n",
    "plt.title('Points vs Price(Transformed)')\n",
    "plt.show()"
   ]
  },
  {
   "cell_type": "code",
   "execution_count": 223,
   "metadata": {},
   "outputs": [
    {
     "data": {
      "image/png": "[encoded data removed]",
      "text/plain": [
       "<Figure size 432x288 with 1 Axes>"
      ]
     },
     "metadata": {},
     "output_type": "display_data"
    }
   ],
   "source": [
    "#Run histogram on new transformed Price\n",
    "us_enc.price_transformed.plot.hist()\n",
    "plt.title('Price Transformed Histogram')\n",
    "plt.show()"
   ]
  },
  {
   "cell_type": "code",
   "execution_count": 227,
   "metadata": {},
   "outputs": [
    {
     "name": "stdout",
     "output_type": "stream",
     "text": [
      "(37510, 1) (37510, 1)\n"
     ]
    }
   ],
   "source": [
    "X = us_enc.drop(['price_transformed'], axis='columns')\n",
    "y = us_enc.price_transformed.values.reshape(-1,1)\n",
    "print(X.shape, y.shape)"
   ]
  },
  {
   "cell_type": "code",
   "execution_count": 228,
   "metadata": {},
   "outputs": [
    {
     "name": "stdout",
     "output_type": "stream",
     "text": [
      "                                 OLS Regression Results                                \n",
      "=======================================================================================\n",
      "Dep. Variable:                      y   R-squared (uncentered):                   0.987\n",
      "Model:                            OLS   Adj. R-squared (uncentered):              0.987\n",
      "Method:                 Least Squares   F-statistic:                          2.757e+06\n",
      "Date:                Sat, 09 May 2020   Prob (F-statistic):                        0.00\n",
      "Time:                        11:59:34   Log-Likelihood:                         -11065.\n",
      "No. Observations:               37510   AIC:                                  2.213e+04\n",
      "Df Residuals:                   37509   BIC:                                  2.214e+04\n",
      "Df Model:                           1                                                  \n",
      "Covariance Type:            nonrobust                                                  \n",
      "==============================================================================\n",
      "                 coef    std err          t      P>|t|      [0.025      0.975]\n",
      "------------------------------------------------------------------------------\n",
      "points         0.0313   1.88e-05   1660.520      0.000       0.031       0.031\n",
      "==============================================================================\n",
      "Omnibus:                        0.337   Durbin-Watson:                   0.178\n",
      "Prob(Omnibus):                  0.845   Jarque-Bera (JB):                0.320\n",
      "Skew:                          -0.001   Prob(JB):                        0.852\n",
      "Kurtosis:                       3.014   Cond. No.                         1.00\n",
      "==============================================================================\n",
      "\n",
      "Warnings:\n",
      "[1] Standard Errors assume that the covariance matrix of the errors is correctly specified.\n"
     ]
    }
   ],
   "source": [
    "# from sklearn.linear_model import LinearRegression\n",
    "# model = LinearRegression(normalize=True)\n",
    "# model.fit(X, y)\n",
    "# # model.fit(X_train_scaled, y_train_scaled)\n",
    "# model.score(X, y)\n",
    "\n",
    "#fit and summarize OLS model\n",
    "mod = sm.OLS(y, X)\n",
    "res = mod.fit()\n",
    "print(res.summary())"
   ]
  },
  {
   "cell_type": "markdown",
   "metadata": {},
   "source": [
    "### Similarly to the previous Model that just uses Price and Points, we are ablet to run an OLS regression to obtain 98.7%. Unforatunately, when including the taster attribute, we only receive 12% probability rather than 98% when just looking at points."
   ]
  },
  {
   "cell_type": "code",
   "execution_count": 200,
   "metadata": {},
   "outputs": [
    {
     "name": "stdout",
     "output_type": "stream",
     "text": [
      "Model Results: \n",
      "                            OLS Regression Results                            \n",
      "==============================================================================\n",
      "Dep. Variable:                      y   R-squared:                       0.123\n",
      "Model:                            OLS   Adj. R-squared:                  0.122\n",
      "Method:                 Least Squares   F-statistic:                     374.0\n",
      "Date:                Sat, 09 May 2020   Prob (F-statistic):               0.00\n",
      "Time:                        11:27:34   Log-Likelihood:                -12921.\n",
      "No. Observations:               37510   AIC:                         2.587e+04\n",
      "Df Residuals:                   37495   BIC:                         2.600e+04\n",
      "Df Model:                          14                                         \n",
      "Covariance Type:            nonrobust                                         \n",
      "==================================================================================================\n",
      "                                     coef    std err          t      P>|t|      [0.025      0.975]\n",
      "--------------------------------------------------------------------------------------------------\n",
      "const                           7.154e+10    1.7e+11      0.421      0.674   -2.61e+11    4.04e+11\n",
      "taster_name_Alexander Peartree -7.154e+10    1.7e+11     -0.421      0.674   -4.04e+11    2.61e+11\n",
      "taster_name_Anna Lee C. Iijima -7.154e+10    1.7e+11     -0.421      0.674   -4.04e+11    2.61e+11\n",
      "taster_name_Carrie Dykes       -7.154e+10    1.7e+11     -0.421      0.674   -4.04e+11    2.61e+11\n",
      "taster_name_Christina Pickard  -7.154e+10    1.7e+11     -0.421      0.674   -4.04e+11    2.61e+11\n",
      "taster_name_Fiona Adams        -7.154e+10    1.7e+11     -0.421      0.674   -4.04e+11    2.61e+11\n",
      "taster_name_Jim Gordon         -7.154e+10    1.7e+11     -0.421      0.674   -4.04e+11    2.61e+11\n",
      "taster_name_Joe Czerwinski     -7.154e+10    1.7e+11     -0.421      0.674   -4.04e+11    2.61e+11\n",
      "taster_name_Lauren Buzzeo      -7.154e+10    1.7e+11     -0.421      0.674   -4.04e+11    2.61e+11\n",
      "taster_name_Matt Kettmann      -7.154e+10    1.7e+11     -0.421      0.674   -4.04e+11    2.61e+11\n",
      "taster_name_Michael Schachner  -7.154e+10    1.7e+11     -0.421      0.674   -4.04e+11    2.61e+11\n",
      "taster_name_Paul Gregutt       -7.154e+10    1.7e+11     -0.421      0.674   -4.04e+11    2.61e+11\n",
      "taster_name_Roger Voss         -7.154e+10    1.7e+11     -0.421      0.674   -4.04e+11    2.61e+11\n",
      "taster_name_Sean P. Sullivan   -7.154e+10    1.7e+11     -0.421      0.674   -4.04e+11    2.61e+11\n",
      "taster_name_Susan Kostrzewa    -7.154e+10    1.7e+11     -0.421      0.674   -4.04e+11    2.61e+11\n",
      "taster_name_Virginie Boone     -7.154e+10    1.7e+11     -0.421      0.674   -4.04e+11    2.61e+11\n",
      "==============================================================================\n",
      "Omnibus:                        6.259   Durbin-Watson:                   0.337\n",
      "Prob(Omnibus):                  0.044   Jarque-Bera (JB):                6.258\n",
      "Skew:                          -0.032   Prob(JB):                       0.0438\n",
      "Kurtosis:                       3.001   Cond. No.                     4.20e+14\n",
      "==============================================================================\n",
      "\n",
      "Warnings:\n",
      "[1] Standard Errors assume that the covariance matrix of the errors is correctly specified.\n",
      "[2] The smallest eigenvalue is 2.53e-25. This might indicate that there are\n",
      "strong multicollinearity problems or that the design matrix is singular.\n"
     ]
    }
   ],
   "source": [
    "import numpy as np\n",
    "from scipy import log\n",
    "import statsmodels.api as sm\n",
    "X = sm.add_constant(X)\n",
    "# X = data_encoded.points\n",
    "mod = sm.OLS(y, X)\n",
    "res = mod.fit()\n",
    "print('Model Results: ')\n",
    "print(res.summary())"
   ]
  },
  {
   "cell_type": "markdown",
   "metadata": {},
   "source": [
    "# Perform Model for Single Country - France"
   ]
  },
  {
   "cell_type": "code",
   "execution_count": 201,
   "metadata": {},
   "outputs": [
    {
     "name": "stdout",
     "output_type": "stream",
     "text": [
      "Number of records?\n",
      "17490\n"
     ]
    },
    {
     "data": {
      "text/html": [
       "<div>\n",
       "<style scoped>\n",
       "    .dataframe tbody tr th:only-of-type {\n",
       "        vertical-align: middle;\n",
       "    }\n",
       "\n",
       "    .dataframe tbody tr th {\n",
       "        vertical-align: top;\n",
       "    }\n",
       "\n",
       "    .dataframe thead th {\n",
       "        text-align: right;\n",
       "    }\n",
       "</style>\n",
       "<table border=\"1\" class=\"dataframe\">\n",
       "  <thead>\n",
       "    <tr style=\"text-align: right;\">\n",
       "      <th></th>\n",
       "      <th>points</th>\n",
       "      <th>price</th>\n",
       "      <th>top_wine_regions</th>\n",
       "      <th>taster_name_Anne Krebiehl MW</th>\n",
       "      <th>taster_name_Joe Czerwinski</th>\n",
       "      <th>taster_name_Lauren Buzzeo</th>\n",
       "      <th>taster_name_Michael Schachner</th>\n",
       "      <th>taster_name_Paul Gregutt</th>\n",
       "      <th>taster_name_Roger Voss</th>\n",
       "    </tr>\n",
       "  </thead>\n",
       "  <tbody>\n",
       "    <tr>\n",
       "      <th>170936</th>\n",
       "      <td>87</td>\n",
       "      <td>15</td>\n",
       "      <td>France</td>\n",
       "      <td>0</td>\n",
       "      <td>0</td>\n",
       "      <td>0</td>\n",
       "      <td>0</td>\n",
       "      <td>0</td>\n",
       "      <td>1</td>\n",
       "    </tr>\n",
       "    <tr>\n",
       "      <th>170938</th>\n",
       "      <td>91</td>\n",
       "      <td>15</td>\n",
       "      <td>France</td>\n",
       "      <td>0</td>\n",
       "      <td>0</td>\n",
       "      <td>0</td>\n",
       "      <td>0</td>\n",
       "      <td>0</td>\n",
       "      <td>1</td>\n",
       "    </tr>\n",
       "    <tr>\n",
       "      <th>170945</th>\n",
       "      <td>84</td>\n",
       "      <td>15</td>\n",
       "      <td>France</td>\n",
       "      <td>0</td>\n",
       "      <td>0</td>\n",
       "      <td>0</td>\n",
       "      <td>0</td>\n",
       "      <td>0</td>\n",
       "      <td>1</td>\n",
       "    </tr>\n",
       "    <tr>\n",
       "      <th>170947</th>\n",
       "      <td>84</td>\n",
       "      <td>18</td>\n",
       "      <td>France</td>\n",
       "      <td>0</td>\n",
       "      <td>0</td>\n",
       "      <td>0</td>\n",
       "      <td>0</td>\n",
       "      <td>0</td>\n",
       "      <td>1</td>\n",
       "    </tr>\n",
       "    <tr>\n",
       "      <th>170949</th>\n",
       "      <td>85</td>\n",
       "      <td>15</td>\n",
       "      <td>France</td>\n",
       "      <td>0</td>\n",
       "      <td>0</td>\n",
       "      <td>0</td>\n",
       "      <td>0</td>\n",
       "      <td>0</td>\n",
       "      <td>1</td>\n",
       "    </tr>\n",
       "    <tr>\n",
       "      <th>...</th>\n",
       "      <td>...</td>\n",
       "      <td>...</td>\n",
       "      <td>...</td>\n",
       "      <td>...</td>\n",
       "      <td>...</td>\n",
       "      <td>...</td>\n",
       "      <td>...</td>\n",
       "      <td>...</td>\n",
       "      <td>...</td>\n",
       "    </tr>\n",
       "    <tr>\n",
       "      <th>221224</th>\n",
       "      <td>92</td>\n",
       "      <td>60</td>\n",
       "      <td>France</td>\n",
       "      <td>0</td>\n",
       "      <td>0</td>\n",
       "      <td>1</td>\n",
       "      <td>0</td>\n",
       "      <td>0</td>\n",
       "      <td>0</td>\n",
       "    </tr>\n",
       "    <tr>\n",
       "      <th>221225</th>\n",
       "      <td>92</td>\n",
       "      <td>60</td>\n",
       "      <td>France</td>\n",
       "      <td>0</td>\n",
       "      <td>0</td>\n",
       "      <td>1</td>\n",
       "      <td>0</td>\n",
       "      <td>0</td>\n",
       "      <td>0</td>\n",
       "    </tr>\n",
       "    <tr>\n",
       "      <th>221230</th>\n",
       "      <td>93</td>\n",
       "      <td>70</td>\n",
       "      <td>France</td>\n",
       "      <td>0</td>\n",
       "      <td>0</td>\n",
       "      <td>0</td>\n",
       "      <td>0</td>\n",
       "      <td>0</td>\n",
       "      <td>1</td>\n",
       "    </tr>\n",
       "    <tr>\n",
       "      <th>221233</th>\n",
       "      <td>94</td>\n",
       "      <td>20</td>\n",
       "      <td>France</td>\n",
       "      <td>0</td>\n",
       "      <td>0</td>\n",
       "      <td>0</td>\n",
       "      <td>0</td>\n",
       "      <td>0</td>\n",
       "      <td>1</td>\n",
       "    </tr>\n",
       "    <tr>\n",
       "      <th>221235</th>\n",
       "      <td>94</td>\n",
       "      <td>45</td>\n",
       "      <td>France</td>\n",
       "      <td>0</td>\n",
       "      <td>0</td>\n",
       "      <td>0</td>\n",
       "      <td>0</td>\n",
       "      <td>0</td>\n",
       "      <td>1</td>\n",
       "    </tr>\n",
       "  </tbody>\n",
       "</table>\n",
       "<p>17490 rows × 9 columns</p>\n",
       "</div>"
      ],
      "text/plain": [
       "        points  price top_wine_regions  taster_name_Anne Krebiehl MW  \\\n",
       "170936      87     15           France                             0   \n",
       "170938      91     15           France                             0   \n",
       "170945      84     15           France                             0   \n",
       "170947      84     18           France                             0   \n",
       "170949      85     15           France                             0   \n",
       "...        ...    ...              ...                           ...   \n",
       "221224      92     60           France                             0   \n",
       "221225      92     60           France                             0   \n",
       "221230      93     70           France                             0   \n",
       "221233      94     20           France                             0   \n",
       "221235      94     45           France                             0   \n",
       "\n",
       "        taster_name_Joe Czerwinski  taster_name_Lauren Buzzeo  \\\n",
       "170936                           0                          0   \n",
       "170938                           0                          0   \n",
       "170945                           0                          0   \n",
       "170947                           0                          0   \n",
       "170949                           0                          0   \n",
       "...                            ...                        ...   \n",
       "221224                           0                          1   \n",
       "221225                           0                          1   \n",
       "221230                           0                          0   \n",
       "221233                           0                          0   \n",
       "221235                           0                          0   \n",
       "\n",
       "        taster_name_Michael Schachner  taster_name_Paul Gregutt  \\\n",
       "170936                              0                         0   \n",
       "170938                              0                         0   \n",
       "170945                              0                         0   \n",
       "170947                              0                         0   \n",
       "170949                              0                         0   \n",
       "...                               ...                       ...   \n",
       "221224                              0                         0   \n",
       "221225                              0                         0   \n",
       "221230                              0                         0   \n",
       "221233                              0                         0   \n",
       "221235                              0                         0   \n",
       "\n",
       "        taster_name_Roger Voss  \n",
       "170936                       1  \n",
       "170938                       1  \n",
       "170945                       1  \n",
       "170947                       1  \n",
       "170949                       1  \n",
       "...                        ...  \n",
       "221224                       0  \n",
       "221225                       0  \n",
       "221230                       1  \n",
       "221233                       1  \n",
       "221235                       1  \n",
       "\n",
       "[17490 rows x 9 columns]"
      ]
     },
     "execution_count": 201,
     "metadata": {},
     "output_type": "execute_result"
    }
   ],
   "source": [
    "france = df[df['top_wine_regions'] == 'France'] \n",
    "france = france[france['points'] < 98]\n",
    "france = pd.get_dummies(france, columns=['taster_name'])\n",
    "\n",
    "print(\"Number of records?\")\n",
    "print(france.points.count())\n",
    "france"
   ]
  },
  {
   "cell_type": "code",
   "execution_count": 202,
   "metadata": {},
   "outputs": [
    {
     "data": {
      "image/png": "[encoded data removed]",
      "text/plain": [
       "<Figure size 432x288 with 1 Axes>"
      ]
     },
     "metadata": {
      "needs_background": "light"
     },
     "output_type": "display_data"
    },
    {
     "data": {
      "image/png": "[encoded data removed]",
      "text/plain": [
       "<Figure size 432x288 with 1 Axes>"
      ]
     },
     "metadata": {
      "needs_background": "light"
     },
     "output_type": "display_data"
    }
   ],
   "source": [
    "#Plot points and price for US data\n",
    "plt.scatter(france['points'], france['price'])\n",
    "plt.title(\"Points vs Price\")\n",
    "plt.show()\n",
    "\n",
    "us.price.hist()\n",
    "plt.title(': Price Histogram')\n",
    "plt.show()"
   ]
  },
  {
   "cell_type": "code",
   "execution_count": 203,
   "metadata": {},
   "outputs": [],
   "source": [
    "#Run Box-Cox transformation with PowerTransformer\n",
    "from sklearn import preprocessing\n",
    "pt = preprocessing.PowerTransformer(method='box-cox', standardize=False)\n",
    "y_lognormal = france.price.values.reshape(-1,1)\n",
    "france_price_transformed = pt.fit_transform(y_lognormal)\n",
    "france_price_transformed = pd.DataFrame(france_price_transformed)"
   ]
  },
  {
   "cell_type": "code",
   "execution_count": 204,
   "metadata": {},
   "outputs": [
    {
     "data": {
      "text/html": [
       "<div>\n",
       "<style scoped>\n",
       "    .dataframe tbody tr th:only-of-type {\n",
       "        vertical-align: middle;\n",
       "    }\n",
       "\n",
       "    .dataframe tbody tr th {\n",
       "        vertical-align: top;\n",
       "    }\n",
       "\n",
       "    .dataframe thead th {\n",
       "        text-align: right;\n",
       "    }\n",
       "</style>\n",
       "<table border=\"1\" class=\"dataframe\">\n",
       "  <thead>\n",
       "    <tr style=\"text-align: right;\">\n",
       "      <th></th>\n",
       "      <th>points</th>\n",
       "      <th>taster_name_Anne Krebiehl MW</th>\n",
       "      <th>taster_name_Joe Czerwinski</th>\n",
       "      <th>taster_name_Lauren Buzzeo</th>\n",
       "      <th>taster_name_Michael Schachner</th>\n",
       "      <th>taster_name_Paul Gregutt</th>\n",
       "      <th>taster_name_Roger Voss</th>\n",
       "      <th>price_transformed</th>\n",
       "    </tr>\n",
       "  </thead>\n",
       "  <tbody>\n",
       "    <tr>\n",
       "      <th>0</th>\n",
       "      <td>87</td>\n",
       "      <td>0</td>\n",
       "      <td>0</td>\n",
       "      <td>0</td>\n",
       "      <td>0</td>\n",
       "      <td>0</td>\n",
       "      <td>1</td>\n",
       "      <td>1.455638</td>\n",
       "    </tr>\n",
       "    <tr>\n",
       "      <th>1</th>\n",
       "      <td>91</td>\n",
       "      <td>0</td>\n",
       "      <td>0</td>\n",
       "      <td>0</td>\n",
       "      <td>0</td>\n",
       "      <td>0</td>\n",
       "      <td>1</td>\n",
       "      <td>1.455638</td>\n",
       "    </tr>\n",
       "    <tr>\n",
       "      <th>2</th>\n",
       "      <td>84</td>\n",
       "      <td>0</td>\n",
       "      <td>0</td>\n",
       "      <td>0</td>\n",
       "      <td>0</td>\n",
       "      <td>0</td>\n",
       "      <td>1</td>\n",
       "      <td>1.455638</td>\n",
       "    </tr>\n",
       "    <tr>\n",
       "      <th>3</th>\n",
       "      <td>84</td>\n",
       "      <td>0</td>\n",
       "      <td>0</td>\n",
       "      <td>0</td>\n",
       "      <td>0</td>\n",
       "      <td>0</td>\n",
       "      <td>1</td>\n",
       "      <td>1.498411</td>\n",
       "    </tr>\n",
       "    <tr>\n",
       "      <th>4</th>\n",
       "      <td>85</td>\n",
       "      <td>0</td>\n",
       "      <td>0</td>\n",
       "      <td>0</td>\n",
       "      <td>0</td>\n",
       "      <td>0</td>\n",
       "      <td>1</td>\n",
       "      <td>1.455638</td>\n",
       "    </tr>\n",
       "    <tr>\n",
       "      <th>...</th>\n",
       "      <td>...</td>\n",
       "      <td>...</td>\n",
       "      <td>...</td>\n",
       "      <td>...</td>\n",
       "      <td>...</td>\n",
       "      <td>...</td>\n",
       "      <td>...</td>\n",
       "      <td>...</td>\n",
       "    </tr>\n",
       "    <tr>\n",
       "      <th>17485</th>\n",
       "      <td>92</td>\n",
       "      <td>0</td>\n",
       "      <td>0</td>\n",
       "      <td>1</td>\n",
       "      <td>0</td>\n",
       "      <td>0</td>\n",
       "      <td>0</td>\n",
       "      <td>1.698791</td>\n",
       "    </tr>\n",
       "    <tr>\n",
       "      <th>17486</th>\n",
       "      <td>92</td>\n",
       "      <td>0</td>\n",
       "      <td>0</td>\n",
       "      <td>1</td>\n",
       "      <td>0</td>\n",
       "      <td>0</td>\n",
       "      <td>0</td>\n",
       "      <td>1.698791</td>\n",
       "    </tr>\n",
       "    <tr>\n",
       "      <th>17487</th>\n",
       "      <td>93</td>\n",
       "      <td>0</td>\n",
       "      <td>0</td>\n",
       "      <td>0</td>\n",
       "      <td>0</td>\n",
       "      <td>0</td>\n",
       "      <td>1</td>\n",
       "      <td>1.716553</td>\n",
       "    </tr>\n",
       "    <tr>\n",
       "      <th>17488</th>\n",
       "      <td>94</td>\n",
       "      <td>0</td>\n",
       "      <td>0</td>\n",
       "      <td>0</td>\n",
       "      <td>0</td>\n",
       "      <td>0</td>\n",
       "      <td>1</td>\n",
       "      <td>1.521349</td>\n",
       "    </tr>\n",
       "    <tr>\n",
       "      <th>17489</th>\n",
       "      <td>94</td>\n",
       "      <td>0</td>\n",
       "      <td>0</td>\n",
       "      <td>0</td>\n",
       "      <td>0</td>\n",
       "      <td>0</td>\n",
       "      <td>1</td>\n",
       "      <td>1.661599</td>\n",
       "    </tr>\n",
       "  </tbody>\n",
       "</table>\n",
       "<p>17490 rows × 8 columns</p>\n",
       "</div>"
      ],
      "text/plain": [
       "       points  taster_name_Anne Krebiehl MW  taster_name_Joe Czerwinski  \\\n",
       "0          87                             0                           0   \n",
       "1          91                             0                           0   \n",
       "2          84                             0                           0   \n",
       "3          84                             0                           0   \n",
       "4          85                             0                           0   \n",
       "...       ...                           ...                         ...   \n",
       "17485      92                             0                           0   \n",
       "17486      92                             0                           0   \n",
       "17487      93                             0                           0   \n",
       "17488      94                             0                           0   \n",
       "17489      94                             0                           0   \n",
       "\n",
       "       taster_name_Lauren Buzzeo  taster_name_Michael Schachner  \\\n",
       "0                              0                              0   \n",
       "1                              0                              0   \n",
       "2                              0                              0   \n",
       "3                              0                              0   \n",
       "4                              0                              0   \n",
       "...                          ...                            ...   \n",
       "17485                          1                              0   \n",
       "17486                          1                              0   \n",
       "17487                          0                              0   \n",
       "17488                          0                              0   \n",
       "17489                          0                              0   \n",
       "\n",
       "       taster_name_Paul Gregutt  taster_name_Roger Voss  price_transformed  \n",
       "0                             0                       1           1.455638  \n",
       "1                             0                       1           1.455638  \n",
       "2                             0                       1           1.455638  \n",
       "3                             0                       1           1.498411  \n",
       "4                             0                       1           1.455638  \n",
       "...                         ...                     ...                ...  \n",
       "17485                         0                       0           1.698791  \n",
       "17486                         0                       0           1.698791  \n",
       "17487                         0                       1           1.716553  \n",
       "17488                         0                       1           1.521349  \n",
       "17489                         0                       1           1.661599  \n",
       "\n",
       "[17490 rows x 8 columns]"
      ]
     },
     "execution_count": 204,
     "metadata": {},
     "output_type": "execute_result"
    }
   ],
   "source": [
    "france_enc = france.drop(['price', 'top_wine_regions'], axis='columns').reset_index(drop=True)\n",
    "france_enc = pd.concat([france_enc, france_price_transformed], axis=1)\n",
    "france_enc = france_enc.rename(columns={0: 'price_transformed'})\n",
    "france_enc"
   ]
  },
  {
   "cell_type": "code",
   "execution_count": 205,
   "metadata": {},
   "outputs": [
    {
     "data": {
      "image/png": "[encoded data removed]",
      "text/plain": [
       "<Figure size 432x288 with 1 Axes>"
      ]
     },
     "metadata": {
      "needs_background": "light"
     },
     "output_type": "display_data"
    }
   ],
   "source": [
    "plt.scatter(france_enc.points, france_enc.price_transformed)\n",
    "plt.title('Points vs Price(Transformed)')\n",
    "plt.show()"
   ]
  },
  {
   "cell_type": "code",
   "execution_count": 206,
   "metadata": {},
   "outputs": [
    {
     "data": {
      "image/png": "[encoded data removed]",
      "text/plain": [
       "<Figure size 432x288 with 1 Axes>"
      ]
     },
     "metadata": {
      "needs_background": "light"
     },
     "output_type": "display_data"
    }
   ],
   "source": [
    "#Run histogram on new transformed Price\n",
    "france_enc.price_transformed.plot.hist()\n",
    "plt.title('Price Transformed Histogram')\n",
    "plt.show()"
   ]
  },
  {
   "cell_type": "code",
   "execution_count": 207,
   "metadata": {},
   "outputs": [
    {
     "name": "stdout",
     "output_type": "stream",
     "text": [
      "(17490, 6) (17490, 1)\n"
     ]
    }
   ],
   "source": [
    "X = france_enc.drop(['price_transformed', 'points'], axis='columns')\n",
    "y = france_enc.price_transformed.values.reshape(-1,1)\n",
    "print(X.shape, y.shape)"
   ]
  },
  {
   "cell_type": "code",
   "execution_count": 208,
   "metadata": {},
   "outputs": [
    {
     "data": {
      "text/plain": [
       "0.02828597064453542"
      ]
     },
     "execution_count": 208,
     "metadata": {},
     "output_type": "execute_result"
    }
   ],
   "source": [
    "from sklearn.linear_model import LinearRegression\n",
    "model = LinearRegression(normalize=True)\n",
    "model.fit(X, y)\n",
    "# model.fit(X_train_scaled, y_train_scaled)\n",
    "model.score(X, y)"
   ]
  },
  {
   "cell_type": "code",
   "execution_count": 209,
   "metadata": {},
   "outputs": [
    {
     "name": "stdout",
     "output_type": "stream",
     "text": [
      "Model Results: \n",
      "                            OLS Regression Results                            \n",
      "==============================================================================\n",
      "Dep. Variable:                      y   R-squared:                       0.027\n",
      "Model:                            OLS   Adj. R-squared:                  0.027\n",
      "Method:                 Least Squares   F-statistic:                     97.12\n",
      "Date:                Sat, 09 May 2020   Prob (F-statistic):          2.67e-101\n",
      "Time:                        11:27:35   Log-Likelihood:                 12916.\n",
      "No. Observations:               17490   AIC:                        -2.582e+04\n",
      "Df Residuals:                   17484   BIC:                        -2.577e+04\n",
      "Df Model:                           5                                         \n",
      "Covariance Type:            nonrobust                                         \n",
      "=================================================================================================\n",
      "                                    coef    std err          t      P>|t|      [0.025      0.975]\n",
      "-------------------------------------------------------------------------------------------------\n",
      "const                          2.423e+11   1.77e+11      1.373      0.170   -1.04e+11    5.88e+11\n",
      "taster_name_Anne Krebiehl MW  -2.423e+11   1.77e+11     -1.373      0.170   -5.88e+11    1.04e+11\n",
      "taster_name_Joe Czerwinski    -2.423e+11   1.77e+11     -1.373      0.170   -5.88e+11    1.04e+11\n",
      "taster_name_Lauren Buzzeo     -2.423e+11   1.77e+11     -1.373      0.170   -5.88e+11    1.04e+11\n",
      "taster_name_Michael Schachner -2.423e+11   1.77e+11     -1.373      0.170   -5.88e+11    1.04e+11\n",
      "taster_name_Paul Gregutt      -2.423e+11   1.77e+11     -1.373      0.170   -5.88e+11    1.04e+11\n",
      "taster_name_Roger Voss        -2.423e+11   1.77e+11     -1.373      0.170   -5.88e+11    1.04e+11\n",
      "==============================================================================\n",
      "Omnibus:                      402.818   Durbin-Watson:                   0.172\n",
      "Prob(Omnibus):                  0.000   Jarque-Bera (JB):              226.856\n",
      "Skew:                           0.101   Prob(JB):                     5.48e-50\n",
      "Kurtosis:                       2.480   Cond. No.                     7.05e+14\n",
      "==============================================================================\n",
      "\n",
      "Warnings:\n",
      "[1] Standard Errors assume that the covariance matrix of the errors is correctly specified.\n",
      "[2] The smallest eigenvalue is 6.13e-26. This might indicate that there are\n",
      "strong multicollinearity problems or that the design matrix is singular.\n"
     ]
    }
   ],
   "source": [
    "import numpy as np\n",
    "from scipy import log\n",
    "import statsmodels.api as sm\n",
    "X = sm.add_constant(X)\n",
    "# X = data_encoded.points\n",
    "mod = sm.OLS(y, X)\n",
    "res = mod.fit()\n",
    "print('Model Results: ')\n",
    "print(res.summary())"
   ]
  },
  {
   "cell_type": "code",
   "execution_count": null,
   "metadata": {},
   "outputs": [],
   "source": []
  },
  {
   "cell_type": "code",
   "execution_count": null,
   "metadata": {},
   "outputs": [],
   "source": []
  },
  {
   "cell_type": "code",
   "execution_count": null,
   "metadata": {},
   "outputs": [],
   "source": []
  }
 ],
 "metadata": {
  "kernelspec": {
   "display_name": "Python 3",
   "language": "python",
   "name": "python3"
  },
  "language_info": {
   "codemirror_mode": {
    "name": "ipython",
    "version": 3
   },
   "file_extension": ".py",
   "mimetype": "text/x-python",
   "name": "python",
   "nbconvert_exporter": "python",
   "pygments_lexer": "ipython3",
   "version": "3.7.4"
  }
 },
 "nbformat": 4,
 "nbformat_minor": 4
}
